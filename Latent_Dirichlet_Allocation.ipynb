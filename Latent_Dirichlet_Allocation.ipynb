{
 "cells": [
  {
   "cell_type": "markdown",
   "metadata": {
    "id": "PlPi9qBcbVXE"
   },
   "source": [
    "## Latent Dirichlet Allocation ##\n",
    "**Watch these videos:**\n",
    "- https://www.youtube.com/watch?v=azXCzI57Yfc\n",
    "- https://www.youtube.com/watch?v=T05t-SqKArY\n",
    "- https://www.youtube.com/watch?v=BaM1uiCpj_E\n",
    "\n",
    "LDA is used to classify text in a document to a particular topic. It builds a topic per document model and words per topic model, modeled as Dirichlet distributions. \n",
    "\n",
    "* Each document is modeled as a multinomial distribution of topics and each topic is modeled as a multinomial distribution of words.\n",
    "* LDA assumes that the every chunk of text we feed into it will contain words that are somehow related. Therefore choosing the right corpus of data is crucial. \n",
    "* It also assumes documents are produced from a mixture of topics. Those topics then generate words based on their probability distribution. "
   ]
  },
  {
   "cell_type": "markdown",
   "metadata": {
    "id": "yq4OmLGdbVXI"
   },
   "source": [
    "## Step 1: Load the dataset\n",
    "\n",
    "The dataset we'll use is a list of over one million news headlines published over a period of 15 years. We'll start by loading it from the `abcnews-date-text.csv` file."
   ]
  },
  {
   "cell_type": "code",
   "execution_count": 5,
   "metadata": {
    "colab": {
     "base_uri": "https://localhost:8080/"
    },
    "id": "pOQRUwIbelYk",
    "outputId": "2e4cdc32-c271-41c0-a833-e121664b2d4d"
   },
   "outputs": [
    {
     "name": "stdout",
     "output_type": "stream",
     "text": [
      "0              0\n",
      "1              1\n",
      "2              2\n",
      "3              3\n",
      "4              4\n",
      "           ...  \n",
      "299995    299995\n",
      "299996    299996\n",
      "299997    299997\n",
      "299998    299998\n",
      "299999    299999\n",
      "Name: index, Length: 300000, dtype: int64\n"
     ]
    }
   ],
   "source": [
    "'''\n",
    "Load the dataset from the CSV and save it to 'data_text'. We only need the'headline_text' column,\n",
    "so drop the rest of the columns. Call the final dataframe \"documents\" \n",
    "Then, add an 'index' column to the dataframe. Be sure to name it index.\n",
    "Hint: dataframe.index\n",
    "'''\n",
    "import pandas as pd\n",
    "data = pd.read_csv('abcnews-date-text.csv')\n",
    "data_text = data[:300000][['headline_text']]\n",
    "data_text['index'] = data_text.index\n",
    "documents = data_text\n",
    "\n",
    "print(documents['index'])"
   ]
  },
  {
   "cell_type": "markdown",
   "metadata": {
    "id": "RfQsZGbibVXK"
   },
   "source": [
    "Let's glance at the dataset:"
   ]
  },
  {
   "cell_type": "code",
   "execution_count": 6,
   "metadata": {
    "colab": {
     "base_uri": "https://localhost:8080/"
    },
    "id": "SVRVdqqpbVXK",
    "outputId": "773925b7-ab7a-4f6b-da29-b6625acf0d4b"
   },
   "outputs": [
    {
     "data": {
      "text/plain": [
       "300000"
      ]
     },
     "execution_count": 6,
     "metadata": {},
     "output_type": "execute_result"
    }
   ],
   "source": [
    "'''\n",
    "print the total number of documents\n",
    "'''\n",
    "len(documents)"
   ]
  },
  {
   "cell_type": "code",
   "execution_count": 7,
   "metadata": {
    "colab": {
     "base_uri": "https://localhost:8080/",
     "height": 206
    },
    "id": "8hJQi4-hbVXK",
    "outputId": "565b950e-087f-4b7e-d7e6-945a92bcbee6"
   },
   "outputs": [
    {
     "data": {
      "text/html": [
       "<div>\n",
       "<style scoped>\n",
       "    .dataframe tbody tr th:only-of-type {\n",
       "        vertical-align: middle;\n",
       "    }\n",
       "\n",
       "    .dataframe tbody tr th {\n",
       "        vertical-align: top;\n",
       "    }\n",
       "\n",
       "    .dataframe thead th {\n",
       "        text-align: right;\n",
       "    }\n",
       "</style>\n",
       "<table border=\"1\" class=\"dataframe\">\n",
       "  <thead>\n",
       "    <tr style=\"text-align: right;\">\n",
       "      <th></th>\n",
       "      <th>headline_text</th>\n",
       "      <th>index</th>\n",
       "    </tr>\n",
       "  </thead>\n",
       "  <tbody>\n",
       "    <tr>\n",
       "      <th>0</th>\n",
       "      <td>aba decides against community broadcasting lic...</td>\n",
       "      <td>0</td>\n",
       "    </tr>\n",
       "    <tr>\n",
       "      <th>1</th>\n",
       "      <td>act fire witnesses must be aware of defamation</td>\n",
       "      <td>1</td>\n",
       "    </tr>\n",
       "    <tr>\n",
       "      <th>2</th>\n",
       "      <td>a g calls for infrastructure protection summit</td>\n",
       "      <td>2</td>\n",
       "    </tr>\n",
       "    <tr>\n",
       "      <th>3</th>\n",
       "      <td>air nz staff in aust strike for pay rise</td>\n",
       "      <td>3</td>\n",
       "    </tr>\n",
       "    <tr>\n",
       "      <th>4</th>\n",
       "      <td>air nz strike to affect australian travellers</td>\n",
       "      <td>4</td>\n",
       "    </tr>\n",
       "  </tbody>\n",
       "</table>\n",
       "</div>"
      ],
      "text/plain": [
       "                                       headline_text  index\n",
       "0  aba decides against community broadcasting lic...      0\n",
       "1     act fire witnesses must be aware of defamation      1\n",
       "2     a g calls for infrastructure protection summit      2\n",
       "3           air nz staff in aust strike for pay rise      3\n",
       "4      air nz strike to affect australian travellers      4"
      ]
     },
     "execution_count": 7,
     "metadata": {},
     "output_type": "execute_result"
    }
   ],
   "source": [
    "documents.head()"
   ]
  },
  {
   "cell_type": "markdown",
   "metadata": {
    "id": "ugEF7jfObVXK"
   },
   "source": [
    "## Step 2: Data Preprocessing ##\n",
    "\n",
    "We will perform the following steps:\n",
    "\n",
    "* **Tokenization**: Split the text into sentences and the sentences into words. Lowercase the words and remove punctuation.\n",
    "* Words that have fewer than 3 characters are removed.\n",
    "* All **stopwords** are removed.\n",
    "* Words are **lemmatized** - words in third person are changed to first person and verbs in past and future tenses are changed into present.\n",
    "* Words are **stemmed** - words are reduced to their root form.\n",
    "\n",
    "This time, we'll make use of the gensim library and show you how  to preprocess text easily. "
   ]
  },
  {
   "cell_type": "code",
   "execution_count": 8,
   "metadata": {
    "id": "657wiZwTbVXL"
   },
   "outputs": [],
   "source": [
    "'''\n",
    "Loading Gensim and nltk libraries\n",
    "'''\n",
    "# pip install gensim\n",
    "import gensim\n",
    "from gensim.utils import simple_preprocess\n",
    "from gensim.parsing.preprocessing import STOPWORDS\n",
    "from nltk.stem import WordNetLemmatizer, SnowballStemmer\n",
    "from nltk.stem.porter import *\n",
    "import numpy as np\n",
    "np.random.seed(400)"
   ]
  },
  {
   "cell_type": "code",
   "execution_count": 9,
   "metadata": {
    "colab": {
     "base_uri": "https://localhost:8080/"
    },
    "id": "4_J148GWbVXL",
    "outputId": "0f6c9108-2e50-4e39-b6c1-cfec87312894"
   },
   "outputs": [
    {
     "name": "stderr",
     "output_type": "stream",
     "text": [
      "[nltk_data] Downloading package wordnet to C:\\Users\\Dhruv\n",
      "[nltk_data]     Gada\\AppData\\Roaming\\nltk_data...\n",
      "[nltk_data]   Package wordnet is already up-to-date!\n"
     ]
    },
    {
     "data": {
      "text/plain": [
       "True"
      ]
     },
     "execution_count": 9,
     "metadata": {},
     "output_type": "execute_result"
    }
   ],
   "source": [
    "import nltk\n",
    "nltk.download('wordnet')"
   ]
  },
  {
   "cell_type": "markdown",
   "metadata": {
    "id": "YUHY6-fQbVXL"
   },
   "source": [
    "### Lemmatizer Example\n",
    "Before preprocessing our dataset, let's first look at an lemmatizing example. What would be the output if we lemmatized the word 'went':"
   ]
  },
  {
   "cell_type": "code",
   "execution_count": 10,
   "metadata": {
    "colab": {
     "base_uri": "https://localhost:8080/"
    },
    "id": "kM3CATTtbVXL",
    "outputId": "c29975fe-c247-4874-cff5-774f1887c5dc"
   },
   "outputs": [
    {
     "name": "stdout",
     "output_type": "stream",
     "text": [
      "go\n"
     ]
    }
   ],
   "source": [
    "print(WordNetLemmatizer().lemmatize('went', pos = 'v')) # past tense to present tense"
   ]
  },
  {
   "cell_type": "markdown",
   "metadata": {
    "id": "Xs6IEy89bVXM"
   },
   "source": [
    "### Stemmer Example\n",
    "Let's also look at a stemming example. Let's throw a number of words at the stemmer and see how it deals with each one:"
   ]
  },
  {
   "cell_type": "code",
   "execution_count": 11,
   "metadata": {
    "colab": {
     "base_uri": "https://localhost:8080/",
     "height": 645
    },
    "id": "Zee3dK0_bVXM",
    "outputId": "9c2343eb-80f7-44e6-8004-8171e3c0b7e6"
   },
   "outputs": [
    {
     "data": {
      "text/html": [
       "<div>\n",
       "<style scoped>\n",
       "    .dataframe tbody tr th:only-of-type {\n",
       "        vertical-align: middle;\n",
       "    }\n",
       "\n",
       "    .dataframe tbody tr th {\n",
       "        vertical-align: top;\n",
       "    }\n",
       "\n",
       "    .dataframe thead th {\n",
       "        text-align: right;\n",
       "    }\n",
       "</style>\n",
       "<table border=\"1\" class=\"dataframe\">\n",
       "  <thead>\n",
       "    <tr style=\"text-align: right;\">\n",
       "      <th></th>\n",
       "      <th>original word</th>\n",
       "      <th>stemmed</th>\n",
       "    </tr>\n",
       "  </thead>\n",
       "  <tbody>\n",
       "    <tr>\n",
       "      <th>0</th>\n",
       "      <td>caresses</td>\n",
       "      <td>caress</td>\n",
       "    </tr>\n",
       "    <tr>\n",
       "      <th>1</th>\n",
       "      <td>flies</td>\n",
       "      <td>fli</td>\n",
       "    </tr>\n",
       "    <tr>\n",
       "      <th>2</th>\n",
       "      <td>dies</td>\n",
       "      <td>die</td>\n",
       "    </tr>\n",
       "    <tr>\n",
       "      <th>3</th>\n",
       "      <td>mules</td>\n",
       "      <td>mule</td>\n",
       "    </tr>\n",
       "    <tr>\n",
       "      <th>4</th>\n",
       "      <td>denied</td>\n",
       "      <td>deni</td>\n",
       "    </tr>\n",
       "    <tr>\n",
       "      <th>5</th>\n",
       "      <td>died</td>\n",
       "      <td>die</td>\n",
       "    </tr>\n",
       "    <tr>\n",
       "      <th>6</th>\n",
       "      <td>agreed</td>\n",
       "      <td>agre</td>\n",
       "    </tr>\n",
       "    <tr>\n",
       "      <th>7</th>\n",
       "      <td>owned</td>\n",
       "      <td>own</td>\n",
       "    </tr>\n",
       "    <tr>\n",
       "      <th>8</th>\n",
       "      <td>humbled</td>\n",
       "      <td>humbl</td>\n",
       "    </tr>\n",
       "    <tr>\n",
       "      <th>9</th>\n",
       "      <td>sized</td>\n",
       "      <td>size</td>\n",
       "    </tr>\n",
       "    <tr>\n",
       "      <th>10</th>\n",
       "      <td>meeting</td>\n",
       "      <td>meet</td>\n",
       "    </tr>\n",
       "    <tr>\n",
       "      <th>11</th>\n",
       "      <td>stating</td>\n",
       "      <td>state</td>\n",
       "    </tr>\n",
       "    <tr>\n",
       "      <th>12</th>\n",
       "      <td>siezing</td>\n",
       "      <td>siez</td>\n",
       "    </tr>\n",
       "    <tr>\n",
       "      <th>13</th>\n",
       "      <td>itemization</td>\n",
       "      <td>item</td>\n",
       "    </tr>\n",
       "    <tr>\n",
       "      <th>14</th>\n",
       "      <td>sensational</td>\n",
       "      <td>sensat</td>\n",
       "    </tr>\n",
       "    <tr>\n",
       "      <th>15</th>\n",
       "      <td>traditional</td>\n",
       "      <td>tradit</td>\n",
       "    </tr>\n",
       "    <tr>\n",
       "      <th>16</th>\n",
       "      <td>reference</td>\n",
       "      <td>refer</td>\n",
       "    </tr>\n",
       "    <tr>\n",
       "      <th>17</th>\n",
       "      <td>colonizer</td>\n",
       "      <td>colon</td>\n",
       "    </tr>\n",
       "    <tr>\n",
       "      <th>18</th>\n",
       "      <td>plotted</td>\n",
       "      <td>plot</td>\n",
       "    </tr>\n",
       "  </tbody>\n",
       "</table>\n",
       "</div>"
      ],
      "text/plain": [
       "   original word stemmed\n",
       "0       caresses  caress\n",
       "1          flies     fli\n",
       "2           dies     die\n",
       "3          mules    mule\n",
       "4         denied    deni\n",
       "5           died     die\n",
       "6         agreed    agre\n",
       "7          owned     own\n",
       "8        humbled   humbl\n",
       "9          sized    size\n",
       "10       meeting    meet\n",
       "11       stating   state\n",
       "12       siezing    siez\n",
       "13   itemization    item\n",
       "14   sensational  sensat\n",
       "15   traditional  tradit\n",
       "16     reference   refer\n",
       "17     colonizer   colon\n",
       "18       plotted    plot"
      ]
     },
     "execution_count": 11,
     "metadata": {},
     "output_type": "execute_result"
    }
   ],
   "source": [
    "stemmer = SnowballStemmer(\"english\")\n",
    "original_words = ['caresses', 'flies', 'dies', 'mules', 'denied','died', 'agreed', 'owned', \n",
    "           'humbled', 'sized','meeting', 'stating', 'siezing', 'itemization','sensational', \n",
    "           'traditional', 'reference', 'colonizer','plotted']\n",
    "singles = [stemmer.stem(plural) for plural in original_words]\n",
    "\n",
    "pd.DataFrame(data={'original word':original_words, 'stemmed':singles })"
   ]
  },
  {
   "cell_type": "code",
   "execution_count": 12,
   "metadata": {
    "id": "KaCnYb6ibVXM"
   },
   "outputs": [],
   "source": [
    "'''\n",
    "Write a function to perform the pre processing steps on the entire dataset\n",
    "'''\n",
    "stemmer = SnowballStemmer(\"english\")\n",
    "def lemmatize_stemming(text):\n",
    "    '''\n",
    "        1) Lemmatize the text\n",
    "        2) Then, stem the text\n",
    "        3) return final text\n",
    "    '''\n",
    "    text = WordNetLemmatizer().lemmatize(text, pos = 'v')\n",
    "    return stemmer.stem(text)\n",
    "    pass\n",
    "\n",
    "# Tokenize and lemmatize. Look up how preprocessing is being done\n",
    "def preprocess(text):\n",
    "    result=[]\n",
    "    for token in gensim.utils.simple_preprocess(text) :\n",
    "        if token not in gensim.parsing.preprocessing.STOPWORDS and len(token) > 3:\n",
    "            \n",
    "            # TODO: Apply lemmatize_stemming on the token, then add to the results list\n",
    "            pass\n",
    "            result.append(lemmatize_stemming(token))\n",
    "        \n",
    "    return result"
   ]
  },
  {
   "cell_type": "code",
   "execution_count": 13,
   "metadata": {
    "colab": {
     "base_uri": "https://localhost:8080/"
    },
    "id": "CUfKLuCNbVXN",
    "outputId": "32d414b9-2ef7-4e66-f948-7955e57853a9"
   },
   "outputs": [
    {
     "name": "stdout",
     "output_type": "stream",
     "text": [
      "Original document: \n",
      "['rain', 'helps', 'dampen', 'bushfires']\n",
      "\n",
      "\n",
      "Tokenized and lemmatized document: \n",
      "['rain', 'help', 'dampen', 'bushfir']\n"
     ]
    }
   ],
   "source": [
    "'''\n",
    "Preview a document after preprocessing\n",
    "'''\n",
    "document_num = 4310\n",
    "doc_sample = documents[documents['index'] == document_num].values[0][0]\n",
    "\n",
    "print(\"Original document: \")\n",
    "words = []\n",
    "for word in doc_sample.split(' '):\n",
    "    words.append(word)\n",
    "print(words)\n",
    "print(\"\\n\\nTokenized and lemmatized document: \")\n",
    "print(preprocess(doc_sample))"
   ]
  },
  {
   "cell_type": "markdown",
   "metadata": {
    "id": "yBDf8d7_bVXN"
   },
   "source": [
    "Let's now preprocess all the news headlines we have. To do that, let's use the [map](https://pandas.pydata.org/pandas-docs/stable/generated/pandas.Series.map.html) function from pandas to apply `preprocess()` to the `headline_text` column\n",
    "\n",
    "**Note**: This may take a few minutes"
   ]
  },
  {
   "cell_type": "code",
   "execution_count": 14,
   "metadata": {
    "id": "1mN-UmfvbVXN"
   },
   "outputs": [],
   "source": [
    "# TODO: preprocess all the headlines, saving the list of results as 'processed_docs'\n",
    "processed_docs = documents['headline_text'].map(preprocess)"
   ]
  },
  {
   "cell_type": "code",
   "execution_count": 15,
   "metadata": {
    "colab": {
     "base_uri": "https://localhost:8080/"
    },
    "id": "9QoaGfkvbVXN",
    "outputId": "19c4f450-15f6-44b1-e70a-9e66317f26ec"
   },
   "outputs": [
    {
     "data": {
      "text/plain": [
       "0            [decid, communiti, broadcast, licenc]\n",
       "1                               [wit, awar, defam]\n",
       "2           [call, infrastructur, protect, summit]\n",
       "3                      [staff, aust, strike, rise]\n",
       "4             [strike, affect, australian, travel]\n",
       "5               [ambiti, olsson, win, tripl, jump]\n",
       "6           [antic, delight, record, break, barca]\n",
       "7    [aussi, qualifi, stosur, wast, memphi, match]\n",
       "8            [aust, address, secur, council, iraq]\n",
       "9                         [australia, lock, timet]\n",
       "Name: headline_text, dtype: object"
      ]
     },
     "execution_count": 15,
     "metadata": {},
     "output_type": "execute_result"
    }
   ],
   "source": [
    "'''\n",
    "Preview 'processed_docs'\n",
    "'''\n",
    "processed_docs[:10]"
   ]
  },
  {
   "cell_type": "markdown",
   "metadata": {
    "id": "NS5bgPUgbVXO"
   },
   "source": [
    "## Step 3.1: Bag of words on the dataset\n",
    "\n",
    "Now let's create a dictionary from 'processed_docs' containing the number of times a word appears in the training set. To do that, let's pass `processed_docs` to [`gensim.corpora.Dictionary()`](https://radimrehurek.com/gensim/corpora/dictionary.html) and call it '`dictionary`'."
   ]
  },
  {
   "cell_type": "code",
   "execution_count": 16,
   "metadata": {
    "id": "VxsLUt2BbVXO"
   },
   "outputs": [],
   "source": [
    "'''\n",
    "Create a dictionary from 'processed_docs' containing the number of times a word appears \n",
    "in the training set using gensim.corpora.Dictionary and call it 'dictionary'\n",
    "'''\n",
    "#  Todo\n",
    "dictionary = gensim.corpora.Dictionary(processed_docs)"
   ]
  },
  {
   "cell_type": "code",
   "execution_count": 17,
   "metadata": {
    "colab": {
     "base_uri": "https://localhost:8080/"
    },
    "id": "usafYH9qbVXO",
    "outputId": "958777f0-7c32-48d4-ba85-5e28c895b61c"
   },
   "outputs": [
    {
     "name": "stdout",
     "output_type": "stream",
     "text": [
      "0 broadcast\n",
      "1 communiti\n",
      "2 decid\n",
      "3 licenc\n",
      "4 awar\n",
      "5 defam\n",
      "6 wit\n",
      "7 call\n",
      "8 infrastructur\n",
      "9 protect\n",
      "10 summit\n"
     ]
    }
   ],
   "source": [
    "'''\n",
    "Checking dictionary created\n",
    "'''\n",
    "count = 0\n",
    "for k, v in dictionary.iteritems():\n",
    "    print(k, v)\n",
    "    count += 1\n",
    "    if count > 10:\n",
    "        break"
   ]
  },
  {
   "cell_type": "markdown",
   "metadata": {
    "id": "z0Cc6S5VbVXP"
   },
   "source": [
    "** Gensim filter_extremes **\n",
    "\n",
    "[`filter_extremes(no_below=5, no_above=0.5, keep_n=100000)`](https://radimrehurek.com/gensim/corpora/dictionary.html#gensim.corpora.dictionary.Dictionary.filter_extremes)\n",
    "\n",
    "Filter out tokens that appear in\n",
    "\n",
    "* less than no_below documents (absolute number) or\n",
    "* more than no_above documents (fraction of total corpus size, not absolute number).\n",
    "* after (1) and (2), keep only the first keep_n most frequent tokens (or keep all if None)."
   ]
  },
  {
   "cell_type": "code",
   "execution_count": 18,
   "metadata": {
    "id": "GxLG4DS9bVXP"
   },
   "outputs": [],
   "source": [
    "'''\n",
    "Remove very rare and very common words:\n",
    "\n",
    "- words appearing less than 15 times\n",
    "- words appearing in more than 10% of all documents\n",
    "- keep 100000 most frequent tokens\n",
    "'''\n",
    "# TODO: apply dictionary.filter_extremes() with the parameters mentioned above\n",
    "dictionary.filter_extremes(no_below=15, no_above=0.1, keep_n=100000)"
   ]
  },
  {
   "cell_type": "markdown",
   "metadata": {
    "id": "jKh1Wz9HbVXP"
   },
   "source": [
    "** Gensim doc2bow **\n",
    "\n",
    "[`doc2bow(document)`](https://radimrehurek.com/gensim/corpora/dictionary.html#gensim.corpora.dictionary.Dictionary.doc2bow)\n",
    "\n",
    "* Convert document (a list of words) into the bag-of-words format = list of (token_id, token_count) 2-tuples. Each word is assumed to be a tokenized and normalized string (either unicode or utf8-encoded). No further preprocessing is done on the words in document; apply tokenization, stemming etc. before calling this method."
   ]
  },
  {
   "cell_type": "code",
   "execution_count": 19,
   "metadata": {
    "id": "-tRYlh0JbVXP"
   },
   "outputs": [],
   "source": [
    "'''\n",
    "Create the Bag-of-words model for each document i.e for each document we create a dictionary reporting how many\n",
    "words and how many times those words appear. Save this to 'bow_corpus'.\n",
    "Hint: Since we want a BoW model for each document, you can use list comprehension instead of for loops. List\n",
    "comprehension is the more pythonic way.\n",
    "'''\n",
    "#  Todo:\n",
    "bow_corpus = [dictionary.doc2bow(d) for d in processed_docs]"
   ]
  },
  {
   "cell_type": "code",
   "execution_count": 20,
   "metadata": {
    "colab": {
     "base_uri": "https://localhost:8080/"
    },
    "id": "6PTznV6WbVXP",
    "outputId": "0940508d-b43d-42d7-e3b9-3d99af8fe250"
   },
   "outputs": [
    {
     "data": {
      "text/plain": [
       "[(71, 1), (107, 1), (462, 1), (3530, 1)]"
      ]
     },
     "execution_count": 20,
     "metadata": {},
     "output_type": "execute_result"
    }
   ],
   "source": [
    "'''\n",
    "Checking Bag of Words corpus for our sample document --> (token_id, token_count)\n",
    "'''\n",
    "bow_corpus[document_num]"
   ]
  },
  {
   "cell_type": "code",
   "execution_count": 21,
   "metadata": {
    "colab": {
     "base_uri": "https://localhost:8080/"
    },
    "id": "Fa2HPotJbVXQ",
    "outputId": "debe1a24-f6be-45b5-c921-260fa9d0b02c"
   },
   "outputs": [
    {
     "name": "stdout",
     "output_type": "stream",
     "text": [
      "Word 71 (\"bushfir\") appears 1 time.\n",
      "Word 107 (\"help\") appears 1 time.\n",
      "Word 462 (\"rain\") appears 1 time.\n",
      "Word 3530 (\"dampen\") appears 1 time.\n"
     ]
    }
   ],
   "source": [
    "'''\n",
    "Preview BOW for our sample preprocessed document\n",
    "'''\n",
    "# Here document_num is document number 4310 which we have checked in Step 2\n",
    "bow_doc_4310 = bow_corpus[document_num]\n",
    "\n",
    "for i in range(len(bow_doc_4310)):\n",
    "    print(\"Word {} (\\\"{}\\\") appears {} time.\".format(bow_doc_4310[i][0], \n",
    "                                                     dictionary[bow_doc_4310[i][0]], \n",
    "                                                     bow_doc_4310[i][1]))"
   ]
  },
  {
   "cell_type": "markdown",
   "metadata": {
    "id": "bkr7hHPWbVXQ"
   },
   "source": [
    "## Step 3.2: TF-IDF on our document set ##\n",
    "\n",
    "While performing TF-IDF on the corpus is not necessary for LDA implemention using the gensim model, it is recemmended. TF-IDF expects a bag-of-words (integer values) training corpus during initialization. During transformation, it will take a vector and return another vector of the same dimensionality.\n",
    "\n",
    "*Please note: The author of Gensim dictates the standard procedure for LDA to be using the Bag of Words model.*"
   ]
  },
  {
   "cell_type": "markdown",
   "metadata": {
    "id": "Dz6Yd5mEbVXQ"
   },
   "source": [
    "** TF-IDF stands for \"Term Frequency, Inverse Document Frequency\".**\n",
    "\n",
    "* It is a way to score the importance of words (or \"terms\") in a document based on how frequently they appear across multiple documents.\n",
    "* If a word appears frequently in a document, it's important. Give the word a high score. But if a word appears in many documents, it's not a unique identifier. Give the word a low score.\n",
    "* Therefore, common words like \"the\" and \"for\", which appear in many documents, will be scaled down. Words that appear frequently in a single document will be scaled up.\n",
    "\n",
    "In other words:\n",
    "\n",
    "* TF(w) = `(Number of times term w appears in a document) / (Total number of terms in the document)`.\n",
    "* IDF(w) = `log_e(Total number of documents / Number of documents with term w in it)`.\n",
    "\n",
    "** For example **\n",
    "\n",
    "* Consider a document containing `100` words wherein the word 'tiger' appears 3 times. \n",
    "* The term frequency (i.e., tf) for 'tiger' is then: \n",
    "    - `TF = (3 / 100) = 0.03`. \n",
    "\n",
    "* Now, assume we have `10 million` documents and the word 'tiger' appears in `1000` of these. Then, the inverse document frequency (i.e., idf) is calculated as:\n",
    "    - `IDF = log(10,000,000 / 1,000) = 4`. \n",
    "\n",
    "* Thus, the Tf-idf weight is the product of these quantities: \n",
    "    - `TF-IDF = 0.03 * 4 = 0.12`."
   ]
  },
  {
   "cell_type": "code",
   "execution_count": 22,
   "metadata": {
    "id": "ScGfXO26bVXQ"
   },
   "outputs": [],
   "source": [
    "'''\n",
    "Create tf-idf model object using models.TfidfModel on 'bow_corpus' and save it to 'tfidf'\n",
    "'''\n",
    "from gensim import corpora, models\n",
    "# TODO\n",
    "tfidf=models.TfidfModel(bow_corpus)  "
   ]
  },
  {
   "cell_type": "code",
   "execution_count": 23,
   "metadata": {
    "id": "Dc_TeL_ybVXQ"
   },
   "outputs": [],
   "source": [
    "'''\n",
    "Apply transformation to the entire corpus and call it 'corpus_tfidf'\n",
    "'''\n",
    "# TODO\n",
    "corpus_tfidf=tfidf[bow_corpus]"
   ]
  },
  {
   "cell_type": "code",
   "execution_count": 27,
   "metadata": {
    "colab": {
     "base_uri": "https://localhost:8080/"
    },
    "id": "Lqxp81plbVXQ",
    "outputId": "daba6ed1-82ff-4314-a7f3-e812f887afd9"
   },
   "outputs": [
    {
     "name": "stdout",
     "output_type": "stream",
     "text": [
      "[(0, 0.5959813347777092), (1, 0.39204529549491984), (2, 0.48531419274988147), (3, 0.5055461098578569)]\n"
     ]
    }
   ],
   "source": [
    "'''\n",
    "Preview TF-IDF scores for our first document --> --> (token_id, tfidf score)\n",
    "'''\n",
    "from pprint import pprint\n",
    "for doc in corpus_tfidf:\n",
    "    print(doc)\n",
    "    break"
   ]
  },
  {
   "cell_type": "markdown",
   "metadata": {
    "id": "ynKC0GVhbVXR"
   },
   "source": [
    "## Step 4.1: Running LDA using Bag of Words ##\n",
    "\n",
    "We are going for 10 topics in the document corpus.\n",
    "\n",
    "** We will be running LDA using all CPU cores to parallelize and speed up model training.**\n",
    "\n",
    "Some of the parameters we will be tweaking are:\n",
    "\n",
    "* **num_topics** is the number of requested latent topics to be extracted from the training corpus.\n",
    "* **id2word** is a mapping from word ids (integers) to words (strings). It is used to determine the vocabulary size, as well as for debugging and topic printing.\n",
    "* **workers** is the number of extra processes to use for parallelization. Uses all available cores by default.\n",
    "* **alpha** and **eta** are hyperparameters that affect sparsity of the document-topic (theta) and topic-word (lambda) distributions. We will let these be the default values for now(default value is `1/num_topics`)\n",
    "    - Alpha is the per document topic distribution.\n",
    "        * High alpha: Every document has a mixture of all topics(documents appear similar to each other).\n",
    "        * Low alpha: Every document has a mixture of very few topics\n",
    "\n",
    "    - Eta is the per topic word distribution.\n",
    "        * High eta: Each topic has a mixture of most words(topics appear similar to each other).\n",
    "        * Low eta: Each topic has a mixture of few words.\n",
    "\n",
    "* ** passes ** is the number of training passes through the corpus. For  example, if the training corpus has 50,000 documents, chunksize is  10,000, passes is 2, then online training is done in 10 updates: \n",
    "    * `#1 documents 0-9,999 `\n",
    "    * `#2 documents 10,000-19,999 `\n",
    "    * `#3 documents 20,000-29,999 `\n",
    "    * `#4 documents 30,000-39,999 `\n",
    "    * `#5 documents 40,000-49,999 `\n",
    "    * `#6 documents 0-9,999 `\n",
    "    * `#7 documents 10,000-19,999 `\n",
    "    * `#8 documents 20,000-29,999 `\n",
    "    * `#9 documents 30,000-39,999 `\n",
    "    * `#10 documents 40,000-49,999` "
   ]
  },
  {
   "cell_type": "code",
   "execution_count": 28,
   "metadata": {
    "id": "U7yX80hAbVXR"
   },
   "outputs": [],
   "source": [
    "# LDA multicore \n",
    "'''\n",
    "Train your lda model using gensim.models.LdaMulticore and save it to 'lda_model'\n",
    "\n",
    "If Multicore is throwing errors on you laptop, use LDA mono-core, gensim.models.LdaModel\n",
    "'''\n",
    "# TODO\n",
    "lda_model = gensim.models.LdaMulticore(bow_corpus, num_topics=10, id2word=dictionary, passes=2, workers=2)"
   ]
  },
  {
   "cell_type": "code",
   "execution_count": 29,
   "metadata": {
    "colab": {
     "base_uri": "https://localhost:8080/"
    },
    "id": "Khty_qyGbVXR",
    "outputId": "17ea4948-9e46-4d5e-a0f4-64add97b74f4"
   },
   "outputs": [
    {
     "name": "stdout",
     "output_type": "stream",
     "text": [
      "Topic: 0 \n",
      "Words: 0.024*\"open\" + 0.020*\"test\" + 0.019*\"lead\" + 0.018*\"world\" + 0.016*\"win\" + 0.015*\"take\" + 0.015*\"australia\" + 0.013*\"record\" + 0.013*\"final\" + 0.012*\"aussi\"\n",
      "\n",
      "\n",
      "Topic: 1 \n",
      "Words: 0.029*\"help\" + 0.018*\"resid\" + 0.018*\"report\" + 0.016*\"market\" + 0.015*\"inquiri\" + 0.014*\"deni\" + 0.014*\"child\" + 0.014*\"blaze\" + 0.013*\"close\" + 0.012*\"firefight\"\n",
      "\n",
      "\n",
      "Topic: 2 \n",
      "Words: 0.038*\"crash\" + 0.033*\"kill\" + 0.022*\"closer\" + 0.017*\"road\" + 0.017*\"die\" + 0.016*\"coast\" + 0.015*\"continu\" + 0.014*\"train\" + 0.014*\"attack\" + 0.012*\"gold\"\n",
      "\n",
      "\n",
      "Topic: 3 \n",
      "Words: 0.033*\"council\" + 0.032*\"plan\" + 0.027*\"govt\" + 0.026*\"water\" + 0.021*\"urg\" + 0.016*\"group\" + 0.015*\"boost\" + 0.012*\"fund\" + 0.012*\"servic\" + 0.012*\"concern\"\n",
      "\n",
      "\n",
      "Topic: 4 \n",
      "Words: 0.022*\"labor\" + 0.021*\"power\" + 0.019*\"elect\" + 0.018*\"face\" + 0.018*\"say\" + 0.017*\"protest\" + 0.011*\"terror\" + 0.011*\"hick\" + 0.011*\"govt\" + 0.011*\"begin\"\n",
      "\n",
      "\n",
      "Topic: 5 \n",
      "Words: 0.042*\"warn\" + 0.023*\"worker\" + 0.016*\"union\" + 0.015*\"health\" + 0.013*\"threat\" + 0.012*\"liber\" + 0.012*\"say\" + 0.011*\"england\" + 0.010*\"expect\" + 0.009*\"centr\"\n",
      "\n",
      "\n",
      "Topic: 6 \n",
      "Words: 0.020*\"school\" + 0.020*\"forc\" + 0.018*\"drought\" + 0.015*\"fund\" + 0.013*\"govt\" + 0.012*\"rain\" + 0.012*\"feder\" + 0.012*\"water\" + 0.011*\"deal\" + 0.011*\"farmer\"\n",
      "\n",
      "\n",
      "Topic: 7 \n",
      "Words: 0.027*\"iraq\" + 0.017*\"talk\" + 0.015*\"troop\" + 0.013*\"lose\" + 0.013*\"hold\" + 0.012*\"storm\" + 0.012*\"timor\" + 0.011*\"south\" + 0.011*\"home\" + 0.011*\"time\"\n",
      "\n",
      "\n",
      "Topic: 8 \n",
      "Words: 0.078*\"polic\" + 0.033*\"charg\" + 0.029*\"court\" + 0.021*\"investig\" + 0.020*\"death\" + 0.020*\"miss\" + 0.020*\"jail\" + 0.017*\"murder\" + 0.017*\"drug\" + 0.014*\"face\"\n",
      "\n",
      "\n",
      "Topic: 9 \n",
      "Words: 0.035*\"claim\" + 0.024*\"govt\" + 0.019*\"reject\" + 0.018*\"break\" + 0.017*\"opposit\" + 0.017*\"nuclear\" + 0.014*\"releas\" + 0.011*\"iran\" + 0.010*\"critic\" + 0.010*\"condit\"\n",
      "\n",
      "\n"
     ]
    }
   ],
   "source": [
    "'''\n",
    "For each topic, we will explore the words occuring in that topic and its relative weight\n",
    "'''\n",
    "for idx, topic in lda_model.print_topics(-1):\n",
    "    print(\"Topic: {} \\nWords: {}\".format(idx, topic))\n",
    "    print(\"\\n\")"
   ]
  },
  {
   "cell_type": "markdown",
   "metadata": {
    "id": "RgLUDlOdSRjm"
   },
   "source": [
    "Using the words in each topic and their corresponding weights, what categories were you able to infer?\n",
    "\n",
    "* 0: Change laws\n",
    "* 1: Missing person\n",
    "* 2: Calamity in Australia\n",
    "* 3: Water Pollution\n",
    "* 4: Election\n",
    "* 5: Crime Allegations\n",
    "* 6: Fire\n",
    "* 7: Car accident\n",
    "* 8: Parliament\n",
    "* 9: Company report"
   ]
  },
  {
   "cell_type": "markdown",
   "metadata": {
    "id": "D-gI5Jv5bVXR"
   },
   "source": [
    "## Step 4.2 Running LDA using TF-IDF ##"
   ]
  },
  {
   "cell_type": "code",
   "execution_count": 30,
   "metadata": {
    "id": "bQx5fdo7bVXS"
   },
   "outputs": [],
   "source": [
    "'''\n",
    "Define lda model using corpus_tfidf\n",
    "'''\n",
    "# TODO\n",
    "lda_model_tfidf = gensim.models.LdaMulticore(corpus_tfidf, num_topics=10, id2word=dictionary, passes=2, workers=3)"
   ]
  },
  {
   "cell_type": "code",
   "execution_count": 31,
   "metadata": {
    "colab": {
     "base_uri": "https://localhost:8080/"
    },
    "id": "aYdX3NBrbVXS",
    "outputId": "1ccb8b51-60ef-4dd1-fd1a-92eeb075e0ff"
   },
   "outputs": [
    {
     "name": "stdout",
     "output_type": "stream",
     "text": [
      "Topic: 0 Word: 0.007*\"market\" + 0.006*\"mine\" + 0.006*\"high\" + 0.006*\"resign\" + 0.006*\"export\" + 0.006*\"takeov\" + 0.005*\"profit\" + 0.005*\"job\" + 0.005*\"uranium\" + 0.005*\"sign\"\n",
      "\n",
      "\n",
      "Topic: 1 Word: 0.007*\"bushfir\" + 0.007*\"polic\" + 0.006*\"blaze\" + 0.006*\"child\" + 0.006*\"sentenc\" + 0.006*\"fish\" + 0.006*\"appeal\" + 0.005*\"illeg\" + 0.005*\"alic\" + 0.005*\"damag\"\n",
      "\n",
      "\n",
      "Topic: 2 Word: 0.039*\"closer\" + 0.009*\"sale\" + 0.009*\"land\" + 0.008*\"retir\" + 0.006*\"telstra\" + 0.005*\"govt\" + 0.005*\"appoint\" + 0.005*\"parent\" + 0.005*\"irrig\" + 0.005*\"properti\"\n",
      "\n",
      "\n",
      "Topic: 3 Word: 0.009*\"final\" + 0.008*\"open\" + 0.007*\"lead\" + 0.007*\"black\" + 0.006*\"climat\" + 0.006*\"win\" + 0.006*\"victori\" + 0.006*\"world\" + 0.005*\"aussi\" + 0.005*\"tiger\"\n",
      "\n",
      "\n",
      "Topic: 4 Word: 0.010*\"water\" + 0.008*\"restrict\" + 0.007*\"doubt\" + 0.006*\"titl\" + 0.006*\"price\" + 0.005*\"petrol\" + 0.005*\"alcohol\" + 0.005*\"level\" + 0.005*\"lift\" + 0.005*\"council\"\n",
      "\n",
      "\n",
      "Topic: 5 Word: 0.023*\"crash\" + 0.014*\"die\" + 0.012*\"nuclear\" + 0.010*\"fatal\" + 0.009*\"highway\" + 0.009*\"hick\" + 0.008*\"accid\" + 0.008*\"road\" + 0.007*\"senat\" + 0.007*\"timor\"\n",
      "\n",
      "\n",
      "Topic: 6 Word: 0.020*\"charg\" + 0.017*\"polic\" + 0.012*\"murder\" + 0.012*\"court\" + 0.010*\"face\" + 0.010*\"arrest\" + 0.009*\"teen\" + 0.008*\"investig\" + 0.008*\"assault\" + 0.007*\"accus\"\n",
      "\n",
      "\n",
      "Topic: 7 Word: 0.014*\"search\" + 0.013*\"coast\" + 0.012*\"miss\" + 0.009*\"rudd\" + 0.009*\"north\" + 0.009*\"rain\" + 0.008*\"west\" + 0.008*\"guilti\" + 0.008*\"storm\" + 0.008*\"gold\"\n",
      "\n",
      "\n",
      "Topic: 8 Word: 0.014*\"iraq\" + 0.011*\"kill\" + 0.010*\"troop\" + 0.007*\"prison\" + 0.007*\"iraqi\" + 0.006*\"polic\" + 0.006*\"jail\" + 0.006*\"solomon\" + 0.006*\"attack\" + 0.006*\"soldier\"\n",
      "\n",
      "\n",
      "Topic: 9 Word: 0.015*\"govt\" + 0.011*\"fund\" + 0.011*\"plan\" + 0.010*\"council\" + 0.009*\"water\" + 0.008*\"urg\" + 0.008*\"health\" + 0.006*\"firefight\" + 0.006*\"opposit\" + 0.006*\"hospit\"\n",
      "\n",
      "\n"
     ]
    }
   ],
   "source": [
    "'''\n",
    "For each topic, we will explore the words occuring in that topic and its relative weight\n",
    "'''\n",
    "for idx, topic in lda_model_tfidf.print_topics(-1):\n",
    "    print(\"Topic: {} Word: {}\".format(idx, topic))\n",
    "    print(\"\\n\")"
   ]
  },
  {
   "cell_type": "markdown",
   "metadata": {
    "id": "Az7fx5F6bVXS"
   },
   "source": [
    "### Classification of the topics ###\n",
    "\n",
    "As we can see, when using tf-idf, heavier weights are given to words that are not as frequent which results in nouns being factored in. That makes it harder to figure out the categories as nouns can be hard to categorize. This goes to show that the models we apply depend on the type of corpus of text we are dealing with. \n",
    "\n",
    "Using the words in each topic and their corresponding weights, what categories could you find?\n",
    "\n",
    "* 0: \n",
    "* 1:  \n",
    "* 2: \n",
    "* 3: \n",
    "* 4:  \n",
    "* 5: \n",
    "* 6: \n",
    "* 7: \n",
    "* 8: \n",
    "* 9: "
   ]
  },
  {
   "cell_type": "markdown",
   "metadata": {
    "id": "Jf3b71O_bVXS"
   },
   "source": [
    "## Step 5.1: Performance evaluation by classifying sample document using LDA Bag of Words model\n",
    "\n",
    "We will check to see where our test document would be classified. "
   ]
  },
  {
   "cell_type": "code",
   "execution_count": 32,
   "metadata": {
    "colab": {
     "base_uri": "https://localhost:8080/"
    },
    "id": "6OnE52hzbVXS",
    "outputId": "40d94680-6f60-4fda-aa92-c56a1b8f6ccd"
   },
   "outputs": [
    {
     "data": {
      "text/plain": [
       "['rain', 'help', 'dampen', 'bushfir']"
      ]
     },
     "execution_count": 32,
     "metadata": {},
     "output_type": "execute_result"
    }
   ],
   "source": [
    "'''\n",
    "Text of sample document 4310\n",
    "'''\n",
    "processed_docs[4310]"
   ]
  },
  {
   "cell_type": "code",
   "execution_count": 33,
   "metadata": {
    "colab": {
     "base_uri": "https://localhost:8080/"
    },
    "id": "E3U6WJUqbVXS",
    "outputId": "e2380639-0c9f-4112-96cf-5b19a5f49922"
   },
   "outputs": [
    {
     "name": "stdout",
     "output_type": "stream",
     "text": [
      "\n",
      "Score: 0.6193869709968567\t \n",
      "Topic: 0.029*\"help\" + 0.018*\"resid\" + 0.018*\"report\" + 0.016*\"market\" + 0.015*\"inquiri\" + 0.014*\"deni\" + 0.014*\"child\" + 0.014*\"blaze\" + 0.013*\"close\" + 0.012*\"firefight\"\n",
      "\n",
      "Score: 0.22059865295886993\t \n",
      "Topic: 0.020*\"school\" + 0.020*\"forc\" + 0.018*\"drought\" + 0.015*\"fund\" + 0.013*\"govt\" + 0.012*\"rain\" + 0.012*\"feder\" + 0.012*\"water\" + 0.011*\"deal\" + 0.011*\"farmer\"\n",
      "\n",
      "Score: 0.02000180259346962\t \n",
      "Topic: 0.024*\"open\" + 0.020*\"test\" + 0.019*\"lead\" + 0.018*\"world\" + 0.016*\"win\" + 0.015*\"take\" + 0.015*\"australia\" + 0.013*\"record\" + 0.013*\"final\" + 0.012*\"aussi\"\n",
      "\n",
      "Score: 0.02000180073082447\t \n",
      "Topic: 0.038*\"crash\" + 0.033*\"kill\" + 0.022*\"closer\" + 0.017*\"road\" + 0.017*\"die\" + 0.016*\"coast\" + 0.015*\"continu\" + 0.014*\"train\" + 0.014*\"attack\" + 0.012*\"gold\"\n",
      "\n",
      "Score: 0.02000180073082447\t \n",
      "Topic: 0.033*\"council\" + 0.032*\"plan\" + 0.027*\"govt\" + 0.026*\"water\" + 0.021*\"urg\" + 0.016*\"group\" + 0.015*\"boost\" + 0.012*\"fund\" + 0.012*\"servic\" + 0.012*\"concern\"\n",
      "\n",
      "Score: 0.02000180073082447\t \n",
      "Topic: 0.022*\"labor\" + 0.021*\"power\" + 0.019*\"elect\" + 0.018*\"face\" + 0.018*\"say\" + 0.017*\"protest\" + 0.011*\"terror\" + 0.011*\"hick\" + 0.011*\"govt\" + 0.011*\"begin\"\n",
      "\n",
      "Score: 0.02000180073082447\t \n",
      "Topic: 0.042*\"warn\" + 0.023*\"worker\" + 0.016*\"union\" + 0.015*\"health\" + 0.013*\"threat\" + 0.012*\"liber\" + 0.012*\"say\" + 0.011*\"england\" + 0.010*\"expect\" + 0.009*\"centr\"\n",
      "\n",
      "Score: 0.02000180073082447\t \n",
      "Topic: 0.027*\"iraq\" + 0.017*\"talk\" + 0.015*\"troop\" + 0.013*\"lose\" + 0.013*\"hold\" + 0.012*\"storm\" + 0.012*\"timor\" + 0.011*\"south\" + 0.011*\"home\" + 0.011*\"time\"\n",
      "\n",
      "Score: 0.02000180073082447\t \n",
      "Topic: 0.078*\"polic\" + 0.033*\"charg\" + 0.029*\"court\" + 0.021*\"investig\" + 0.020*\"death\" + 0.020*\"miss\" + 0.020*\"jail\" + 0.017*\"murder\" + 0.017*\"drug\" + 0.014*\"face\"\n",
      "\n",
      "Score: 0.02000180073082447\t \n",
      "Topic: 0.035*\"claim\" + 0.024*\"govt\" + 0.019*\"reject\" + 0.018*\"break\" + 0.017*\"opposit\" + 0.017*\"nuclear\" + 0.014*\"releas\" + 0.011*\"iran\" + 0.010*\"critic\" + 0.010*\"condit\"\n"
     ]
    }
   ],
   "source": [
    "'''\n",
    "Check which topic our test document belongs to using the LDA Bag of Words model.\n",
    "'''\n",
    "\n",
    "# Our test document is document number 4310\n",
    "for index, score in sorted(lda_model[bow_corpus[document_num]], key=lambda tup: -1*tup[1]):\n",
    "    print(\"\\nScore: {}\\t \\nTopic: {}\".format(score, lda_model.print_topic(index, 10)))"
   ]
  },
  {
   "cell_type": "markdown",
   "metadata": {
    "id": "-NYL09DjbVXT"
   },
   "source": [
    "## Step 5.2: Performance evaluation by classifying sample document using LDA TF-IDF model"
   ]
  },
  {
   "cell_type": "code",
   "execution_count": 34,
   "metadata": {
    "colab": {
     "base_uri": "https://localhost:8080/"
    },
    "id": "B1UqWRMhbVXT",
    "outputId": "f8fbc57d-552f-459c-f4de-b248d8f31378"
   },
   "outputs": [
    {
     "name": "stdout",
     "output_type": "stream",
     "text": [
      "\n",
      "Score: 0.30924755334854126\t \n",
      "Topic: 0.007*\"bushfir\" + 0.007*\"polic\" + 0.006*\"blaze\" + 0.006*\"child\" + 0.006*\"sentenc\" + 0.006*\"fish\" + 0.006*\"appeal\" + 0.005*\"illeg\" + 0.005*\"alic\" + 0.005*\"damag\"\n",
      "\n",
      "Score: 0.3043995201587677\t \n",
      "Topic: 0.014*\"search\" + 0.013*\"coast\" + 0.012*\"miss\" + 0.009*\"rudd\" + 0.009*\"north\" + 0.009*\"rain\" + 0.008*\"west\" + 0.008*\"guilti\" + 0.008*\"storm\" + 0.008*\"gold\"\n",
      "\n",
      "Score: 0.24629759788513184\t \n",
      "Topic: 0.023*\"crash\" + 0.014*\"die\" + 0.012*\"nuclear\" + 0.010*\"fatal\" + 0.009*\"highway\" + 0.009*\"hick\" + 0.008*\"accid\" + 0.008*\"road\" + 0.007*\"senat\" + 0.007*\"timor\"\n",
      "\n",
      "Score: 0.02001063898205757\t \n",
      "Topic: 0.015*\"govt\" + 0.011*\"fund\" + 0.011*\"plan\" + 0.010*\"council\" + 0.009*\"water\" + 0.008*\"urg\" + 0.008*\"health\" + 0.006*\"firefight\" + 0.006*\"opposit\" + 0.006*\"hospit\"\n",
      "\n",
      "Score: 0.020009329542517662\t \n",
      "Topic: 0.010*\"water\" + 0.008*\"restrict\" + 0.007*\"doubt\" + 0.006*\"titl\" + 0.006*\"price\" + 0.005*\"petrol\" + 0.005*\"alcohol\" + 0.005*\"level\" + 0.005*\"lift\" + 0.005*\"council\"\n",
      "\n",
      "Score: 0.020007804036140442\t \n",
      "Topic: 0.039*\"closer\" + 0.009*\"sale\" + 0.009*\"land\" + 0.008*\"retir\" + 0.006*\"telstra\" + 0.005*\"govt\" + 0.005*\"appoint\" + 0.005*\"parent\" + 0.005*\"irrig\" + 0.005*\"properti\"\n",
      "\n",
      "Score: 0.020007681101560593\t \n",
      "Topic: 0.007*\"market\" + 0.006*\"mine\" + 0.006*\"high\" + 0.006*\"resign\" + 0.006*\"export\" + 0.006*\"takeov\" + 0.005*\"profit\" + 0.005*\"job\" + 0.005*\"uranium\" + 0.005*\"sign\"\n",
      "\n",
      "Score: 0.02000679075717926\t \n",
      "Topic: 0.014*\"iraq\" + 0.011*\"kill\" + 0.010*\"troop\" + 0.007*\"prison\" + 0.007*\"iraqi\" + 0.006*\"polic\" + 0.006*\"jail\" + 0.006*\"solomon\" + 0.006*\"attack\" + 0.006*\"soldier\"\n",
      "\n",
      "Score: 0.02000655047595501\t \n",
      "Topic: 0.020*\"charg\" + 0.017*\"polic\" + 0.012*\"murder\" + 0.012*\"court\" + 0.010*\"face\" + 0.010*\"arrest\" + 0.009*\"teen\" + 0.008*\"investig\" + 0.008*\"assault\" + 0.007*\"accus\"\n",
      "\n",
      "Score: 0.02000650390982628\t \n",
      "Topic: 0.009*\"final\" + 0.008*\"open\" + 0.007*\"lead\" + 0.007*\"black\" + 0.006*\"climat\" + 0.006*\"win\" + 0.006*\"victori\" + 0.006*\"world\" + 0.005*\"aussi\" + 0.005*\"tiger\"\n"
     ]
    }
   ],
   "source": [
    "'''\n",
    "Check which topic our test document belongs to using the LDA TF-IDF model.\n",
    "Code would be similar to above\n",
    "'''\n",
    "# Todo\n",
    "for index, score in sorted(lda_model_tfidf[bow_corpus[4310]], key=lambda tup: -1*tup[1]):\n",
    "    print(\"\\nScore: {}\\t \\nTopic: {}\".format(score, lda_model_tfidf.print_topic(index, 10)))"
   ]
  },
  {
   "cell_type": "markdown",
   "metadata": {
    "id": "Qpwg-G9sbVXT"
   },
   "source": [
    "## Step 6: Testing model on unseen document ##"
   ]
  },
  {
   "cell_type": "code",
   "execution_count": 35,
   "metadata": {
    "colab": {
     "base_uri": "https://localhost:8080/"
    },
    "id": "kbukFMvdbVXT",
    "outputId": "9d23d19b-ec69-4e4e-89fb-9a7ddb1c7f8d"
   },
   "outputs": [
    {
     "name": "stdout",
     "output_type": "stream",
     "text": [
      "Score: 0.41998058557510376\t Topic: 0.024*\"open\" + 0.020*\"test\" + 0.019*\"lead\" + 0.018*\"world\" + 0.016*\"win\"\n",
      "Score: 0.22001232206821442\t Topic: 0.035*\"claim\" + 0.024*\"govt\" + 0.019*\"reject\" + 0.018*\"break\" + 0.017*\"opposit\"\n",
      "Score: 0.21992991864681244\t Topic: 0.078*\"polic\" + 0.033*\"charg\" + 0.029*\"court\" + 0.021*\"investig\" + 0.020*\"death\"\n",
      "Score: 0.020014505833387375\t Topic: 0.020*\"school\" + 0.020*\"forc\" + 0.018*\"drought\" + 0.015*\"fund\" + 0.013*\"govt\"\n",
      "Score: 0.02001241222023964\t Topic: 0.027*\"iraq\" + 0.017*\"talk\" + 0.015*\"troop\" + 0.013*\"lose\" + 0.013*\"hold\"\n",
      "Score: 0.020011719316244125\t Topic: 0.033*\"council\" + 0.032*\"plan\" + 0.027*\"govt\" + 0.026*\"water\" + 0.021*\"urg\"\n",
      "Score: 0.020011063665151596\t Topic: 0.042*\"warn\" + 0.023*\"worker\" + 0.016*\"union\" + 0.015*\"health\" + 0.013*\"threat\"\n",
      "Score: 0.02001088671386242\t Topic: 0.029*\"help\" + 0.018*\"resid\" + 0.018*\"report\" + 0.016*\"market\" + 0.015*\"inquiri\"\n",
      "Score: 0.0200086310505867\t Topic: 0.022*\"labor\" + 0.021*\"power\" + 0.019*\"elect\" + 0.018*\"face\" + 0.018*\"say\"\n",
      "Score: 0.020007910206913948\t Topic: 0.038*\"crash\" + 0.033*\"kill\" + 0.022*\"closer\" + 0.017*\"road\" + 0.017*\"die\"\n"
     ]
    }
   ],
   "source": [
    "unseen_document = \"My favorite sports activities are running and swimming.\"\n",
    "\n",
    "# Data preprocessing step for the unseen document\n",
    "bow_vector = dictionary.doc2bow(preprocess(unseen_document))\n",
    "\n",
    "for index, score in sorted(lda_model[bow_vector], key=lambda tup: -1*tup[1]):\n",
    "    print(\"Score: {}\\t Topic: {}\".format(score, lda_model.print_topic(index, 5)))"
   ]
  },
  {
   "cell_type": "markdown",
   "metadata": {
    "id": "bo6hzXyXbVXT"
   },
   "source": [
    "### Now, look up different ways we can transform our words or use different techniques or improvements that we can make to make our Topic Classifier more accurate. Write them down below:"
   ]
  },
  {
   "cell_type": "markdown",
   "metadata": {
    "id": "T42G2w4EbVXT"
   },
   "source": [
    "**We can:**\n",
    "\n",
    "Append points here\n",
    "- Domain Specific Features in the Corpus\n",
    "- Use An Exhaustive Stopword List\n",
    "- Noise Free Corpus\n",
    "- Eliminating features with extremely low frequency\n",
    "- Normalized Corpus\n",
    "- Use Complex Features: n-grams and part of speech tags\n"
   ]
  },
  {
   "cell_type": "code",
   "execution_count": null,
   "metadata": {},
   "outputs": [],
   "source": []
  }
 ],
 "metadata": {
  "colab": {
   "name": "Latent_Dirichlet_Allocation.ipynb",
   "provenance": []
  },
  "kernelspec": {
   "display_name": "Python 3",
   "language": "python",
   "name": "python3"
  },
  "language_info": {
   "codemirror_mode": {
    "name": "ipython",
    "version": 3
   },
   "file_extension": ".py",
   "mimetype": "text/x-python",
   "name": "python",
   "nbconvert_exporter": "python",
   "pygments_lexer": "ipython3",
   "version": "3.8.3"
  }
 },
 "nbformat": 4,
 "nbformat_minor": 1
}
